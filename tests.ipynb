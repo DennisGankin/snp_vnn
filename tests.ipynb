{
 "cells": [
  {
   "cell_type": "code",
   "execution_count": 1,
   "metadata": {},
   "outputs": [],
   "source": [
    "import pandas as pd\n",
    "import numpy as np\n",
    "import h5py"
   ]
  },
  {
   "cell_type": "code",
   "execution_count": 2,
   "metadata": {},
   "outputs": [
    {
     "name": "stdout",
     "output_type": "stream",
     "text": [
      "[[0 1 1 0 2 0 0 2 1 1 0 2 1 2 2 1 1 0 1 1]\n",
      " [1 0 2 2 2 1 2 1 2 0 1 2 1 0 0 2 1 2 2 1]\n",
      " [1 1 1 2 0 2 2 2 2 0 0 2 1 2 0 0 1 2 2 0]\n",
      " [0 2 2 2 1 1 0 1 0 0 1 0 1 1 2 0 2 1 2 2]\n",
      " [1 0 0 0 2 1 1 0 1 1 1 2 2 0 1 1 2 1 1 1]]\n"
     ]
    }
   ],
   "source": [
    "# create a hp5y file\n",
    "f = h5py.File('data/test.h5', 'w')\n",
    "# create random 5x20 matrix of 0 1 or 2\n",
    "data = np.random.randint(0, 3, (5, 20))\n",
    "print(data)\n",
    "\n",
    "# write data to the file\n",
    "f.create_dataset('genomics_data', data=data)\n",
    "\n",
    "# close the file\n",
    "f.close()"
   ]
  },
  {
   "cell_type": "code",
   "execution_count": 3,
   "metadata": {},
   "outputs": [],
   "source": [
    "# read the data\n",
    "f = h5py.File('data/test.h5', 'r')\n",
    "data = f['genomics_data']"
   ]
  },
  {
   "cell_type": "code",
   "execution_count": 9,
   "metadata": {},
   "outputs": [
    {
     "data": {
      "text/plain": [
       "(1, 20, 1)"
      ]
     },
     "execution_count": 9,
     "metadata": {},
     "output_type": "execute_result"
    }
   ],
   "source": [
    "np.dstack([data[0,:]]).shape"
   ]
  },
  {
   "cell_type": "code",
   "execution_count": 11,
   "metadata": {},
   "outputs": [
    {
     "data": {
      "text/plain": [
       "(1, 20)"
      ]
     },
     "execution_count": 11,
     "metadata": {},
     "output_type": "execute_result"
    }
   ],
   "source": [
    "np.atleast_2d(data[0,:]).shape"
   ]
  },
  {
   "cell_type": "code",
   "execution_count": 12,
   "metadata": {},
   "outputs": [
    {
     "data": {
      "text/plain": [
       "1"
      ]
     },
     "execution_count": 12,
     "metadata": {},
     "output_type": "execute_result"
    }
   ],
   "source": [
    "len(data[0,:].shape)"
   ]
  },
  {
   "cell_type": "code",
   "execution_count": 18,
   "metadata": {},
   "outputs": [
    {
     "data": {
      "text/plain": [
       "(20, 1)"
      ]
     },
     "execution_count": 18,
     "metadata": {},
     "output_type": "execute_result"
    }
   ],
   "source": [
    "np.expand_dims(data[1,:], axis=-1).shape"
   ]
  },
  {
   "cell_type": "code",
   "execution_count": null,
   "metadata": {},
   "outputs": [],
   "source": []
  },
  {
   "cell_type": "code",
   "execution_count": 32,
   "metadata": {},
   "outputs": [
    {
     "name": "stderr",
     "output_type": "stream",
     "text": [
      "/scratch/tmp.11283016.dgankin/ipykernel_1650765/1327587260.py:11: DtypeWarning: Columns (0) have mixed types. Specify dtype option on import or set low_memory=False.\n",
      "  gene_bim_df = pd.read_csv(gene_bim_file, sep=\"\\t\")\n"
     ]
    }
   ],
   "source": [
    "# test models\n",
    "import src.models as models\n",
    "\n",
    "import torch\n",
    "import pandas as pd\n",
    "\n",
    "from dataclasses import make_dataclass\n",
    "import time\n",
    "\n",
    "gene_bim_file = \"/cluster/project/beltrao/gankin/vnn/data/ukb_gene.bim\"\n",
    "gene_bim_df = pd.read_csv(gene_bim_file, sep=\"\\t\")\n",
    "\n",
    "snp_id_map = {\n",
    "    snp: ind\n",
    "    for snp, ind in zip(\n",
    "        gene_bim_df[\"snp\"].unique(), range(0, len(gene_bim_df[\"snp\"].unique()))\n",
    "    )\n",
    "}\n",
    "\n",
    "## model setup from dataclasses import make_dataclass\n",
    "argument_dict = {\n",
    "    \"onto\": \"ontology.txt\",\n",
    "    \"train\": \"labels.csv\",\n",
    "    \"label_col\": \"bc_reported\",  # \"has_cancer\", # new for ukb\n",
    "    \"epoch\": 150,\n",
    "    \"lr\": 0.001,\n",
    "    \"wd\": 0.001,\n",
    "    \"alpha\": 0.3,\n",
    "    \"batchsize\": 40480,  # 33840,\n",
    "    \"modeldir\": \"/model_test/\",\n",
    "    \"cuda\": 0,\n",
    "    \"gene2id\": \"all_genes.csv\",\n",
    "    \"cell2id\": \"../../data/sample_train/sample2ind.txt\",  # not used\n",
    "    \"genotype_hiddens\": 4,\n",
    "    \"feature_dim\": 1,\n",
    "    \"mutations\": \"features.npy\",  # all genes #\"../../data/sample_train/bin_features.npz\",\n",
    "    \"cn_deletions\": \"cell2cndeletion.txt\",  # not used\n",
    "    \"cn_amplifications\": \"cell2cnamplification.txt\",  # not used\n",
    "    \"optimize\": 1,\n",
    "    \"zscore_method\": \"auc\",\n",
    "    \"std\": \"/model_test/std.txt\",\n",
    "    \"patience\": 30,\n",
    "    \"delta\": 0.001,\n",
    "    \"min_dropout_layer\": 2,\n",
    "    \"dropout_fraction\": 0.0,\n",
    "    \"lr_step_size\": 120,\n",
    "}\n",
    "args = make_dataclass(\n",
    "    \"DataclassFromDir\", ((k, type(v)) for k, v in argument_dict.items())\n",
    ")(**argument_dict)"
   ]
  },
  {
   "cell_type": "code",
   "execution_count": 33,
   "metadata": {},
   "outputs": [
    {
     "name": "stdout",
     "output_type": "stream",
     "text": [
      "Creating gene ontology\n",
      "There are 1 roots: NEST\n",
      "There are 18074 terms\n",
      "There are 1 connected components\n"
     ]
    }
   ],
   "source": [
    "from src.graphs import GeneOntology\n",
    "\n",
    "print(\"Creating gene ontology\")\n",
    "\n",
    "snp_ont = GeneOntology(\n",
    "    snp_id_map,\n",
    "    \"/cluster/project/beltrao/gankin/vnn/snp_vnn/data/NEST_UKB_snp_onto.txt\",\n",
    "    child_node=\"snp\",\n",
    ")"
   ]
  },
  {
   "cell_type": "code",
   "execution_count": 50,
   "metadata": {},
   "outputs": [],
   "source": [
    "def test_forward_speed(model = None, args = None, snp_ont = None):\n",
    "    # Create a model\n",
    "    if model is None:\n",
    "        print(\"Setting up model\")\n",
    "        model = models.GenoVNN(args, snp_ont)\n",
    "    # create random data\n",
    "\n",
    "    # Create random gene input data\n",
    "    x = torch.randn(16, 429371, 1)  # For example, a batch of 16 samples\n",
    "\n",
    "    print(\"Starting speed test\")\n",
    "\n",
    "    # Run both the original and refactored versions\n",
    "    # measure time\n",
    "    start = time.time()\n",
    "    aux_out_original, hidden_original = model.forward(x)\n",
    "    end = time.time()\n",
    "    print(f\"Original forward time: {end - start}\")\n",
    "\n",
    "    start = time.time()\n",
    "    aux_out_refactored, hidden_refactored = model.forward_refactored(x)\n",
    "    end = time.time()\n",
    "    print(f\"Refactored forward time: {end - start}\")\n",
    "\n",
    "    # Check that the outputs are equal\n",
    "    for term in aux_out_original.keys():\n",
    "        assert torch.allclose(\n",
    "            aux_out_original[term], aux_out_refactored[term]\n",
    "        ), f\"Mismatch in aux_out for {term}\"\n",
    "    for term in hidden_original.keys():\n",
    "        assert torch.allclose(\n",
    "            hidden_original[term][0], hidden_refactored[term][0]\n",
    "        ), f\"Mismatch in hidden state for {term}\"\n",
    "\n",
    "    #return [aux_out_original, hidden_original, aux_out_refactored, hidden_refactored]"
   ]
  },
  {
   "cell_type": "code",
   "execution_count": 51,
   "metadata": {},
   "outputs": [],
   "source": [
    "from importlib import reload"
   ]
  },
  {
   "cell_type": "code",
   "execution_count": 52,
   "metadata": {},
   "outputs": [
    {
     "data": {
      "text/plain": [
       "<module 'src.models' from '/cluster/project/beltrao/gankin/vnn/snp_vnn/src/models.py'>"
      ]
     },
     "execution_count": 52,
     "metadata": {},
     "output_type": "execute_result"
    }
   ],
   "source": [
    "reload(models)"
   ]
  },
  {
   "cell_type": "code",
   "execution_count": 53,
   "metadata": {},
   "outputs": [
    {
     "name": "stdout",
     "output_type": "stream",
     "text": [
      "Setting up model\n",
      "computing masks\n",
      "Constructing first NN layer\n",
      "Constructing NN graph\n",
      "Starting speed test\n",
      "Original forward time: 7.624654531478882\n",
      "Refactored forward time: 4.026015520095825\n"
     ]
    }
   ],
   "source": [
    "test_forward_speed(args=args, snp_ont=snp_ont)"
   ]
  },
  {
   "cell_type": "code",
   "execution_count": 54,
   "metadata": {},
   "outputs": [
    {
     "name": "stdout",
     "output_type": "stream",
     "text": [
      "Setting up model\n",
      "computing masks\n",
      "Constructing first NN layer\n",
      "Constructing NN graph\n"
     ]
    },
    {
     "name": "stderr",
     "output_type": "stream",
     "text": [
      "Running normal tests: 100%|██████████| 20/20 [02:18<00:00,  6.92s/it]\n",
      "Running refactored tests: 100%|██████████| 20/20 [01:30<00:00,  4.52s/it]\n"
     ]
    }
   ],
   "source": [
    "# loop 20 times with tqdm and save the time\n",
    "from tqdm import tqdm\n",
    "times_normal = []\n",
    "times_refactored = []\n",
    "\n",
    "print(\"Setting up model\")\n",
    "model = models.GenoVNN(args, snp_ont)\n",
    "\n",
    "for i in tqdm(range(20), desc=\"Running normal tests\"):\n",
    "\n",
    "    x = torch.randn(16, 429371, 1)  \n",
    "\n",
    "    start = time.time()\n",
    "    aux_out_original, hidden_original = model.forward(x)\n",
    "    end = time.time()\n",
    "    times_normal.append(end - start)\n",
    "\n",
    "for i in tqdm(range(20), desc=\"Running refactored tests\"):\n",
    "\n",
    "    x = torch.randn(16, 429371, 1)  \n",
    "\n",
    "    start = time.time()\n",
    "    aux_out_refactored, hidden_refactored = model.forward_refactored(x)\n",
    "    end = time.time()\n",
    "    times_refactored.append(end - start)\n",
    "\n"
   ]
  },
  {
   "cell_type": "code",
   "execution_count": 56,
   "metadata": {},
   "outputs": [],
   "source": [
    "sns.set_context(\"talk\")"
   ]
  },
  {
   "cell_type": "code",
   "execution_count": 60,
   "metadata": {},
   "outputs": [
    {
     "data": {
      "image/png": "[encoded data removed]",
      "text/plain": [
       "<Figure size 640x480 with 1 Axes>"
      ]
     },
     "metadata": {},
     "output_type": "display_data"
    }
   ],
   "source": [
    "# plot a boxplot to compare times between normal and refactored use seabron\n",
    "import seaborn as sns\n",
    "import matplotlib.pyplot as plt\n",
    "\n",
    "# create dataframe with bith entries\n",
    "times_df = pd.DataFrame()\n",
    "times_df[\"run_time\"] = times_normal + times_refactored\n",
    "times_df[\"method\"] = [\"normal\"] * 20 + [\"refactored\"] * 20\n",
    "\n",
    "# plot the boxplot\n",
    "sns.boxplot(data=times_df, x=\"method\", y=\"run_time\")\n",
    "plt.ylabel(\"Run time (s)\")\n",
    "plt.xlabel(\"Method\")\n",
    "plt.title(\"Comparison of run times\")\n",
    "\n",
    "plt.show()"
   ]
  },
  {
   "cell_type": "code",
   "execution_count": null,
   "metadata": {},
   "outputs": [],
   "source": []
  }
 ],
 "metadata": {
  "kernelspec": {
   "display_name": "Python 3",
   "language": "python",
   "name": "python3"
  },
  "language_info": {
   "codemirror_mode": {
    "name": "ipython",
    "version": 3
   },
   "file_extension": ".py",
   "mimetype": "text/x-python",
   "name": "python",
   "nbconvert_exporter": "python",
   "pygments_lexer": "ipython3",
   "version": "3.11.9"
  }
 },
 "nbformat": 4,
 "nbformat_minor": 2
}
