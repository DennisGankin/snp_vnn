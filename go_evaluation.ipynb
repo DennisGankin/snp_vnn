{
 "cells": [
  {
   "cell_type": "code",
   "execution_count": null,
   "metadata": {},
   "outputs": [],
   "source": [
    "import pandas as pd\n",
    "import numpy as np\n",
    "import h5py\n",
    "import zipfile\n",
    "\n",
    "import torch\n",
    "from dataclasses import make_dataclass\n",
    "\n",
    "from importlib import reload\n",
    "from src.datasets import UKBSnpLevelDatasetH5OneHot\n",
    "\n",
    "from src.util import load_config\n",
    "from src.graphs import GeneOntology\n",
    "from src.vnn_trainer import GenoVNNLightning, FastVNNLightning, FastVNNLitReg\n",
    "\n",
    "import matplotlib.pyplot as plt\n",
    "import seaborn as sns\n",
    "\n",
    "from src import xai\n",
    "from importlib import reload\n",
    "\n",
    "from tqdm import tqdm\n",
    "\n",
    "sns.set_context(\"talk\")\n",
    "torch.cuda.is_available()"
   ]
  },
  {
   "cell_type": "markdown",
   "metadata": {},
   "source": [
    "# Loading config and model"
   ]
  },
  {
   "cell_type": "code",
   "execution_count": null,
   "metadata": {},
   "outputs": [],
   "source": [
    "gene_bim_file = \"/cluster/project/beltrao/gankin/vnn/data/ukb_gene.bim\"\n",
    "ontology_file = \"/cluster/project/beltrao/gankin/vnn/snp_vnn/data/NEST_UKB_snp_onto.txt\"\n",
    "\n",
    "model_ckpt = \"/cluster/project/beltrao/gankin/vnn/snp_vnn/data/checkpoints/gout/epoch=2-step=5859.ckpt\""
   ]
  },
  {
   "cell_type": "code",
   "execution_count": null,
   "metadata": {},
   "outputs": [],
   "source": [
    "config_file = \"src/config/gout_config.yaml\"\n",
    "config = load_config(config_file)\n",
    "config[\"feature_dim\"] = 3\n",
    "\n",
    "args = make_dataclass(\n",
    "    \"DataclassFromConfig\", [(k, type(v)) for k, v in config.items()]\n",
    ")(**config)\n",
    "\n",
    "gene_bim_df = pd.read_csv(gene_bim_file, sep=\"\\t\")\n",
    "\n",
    "snp_id_map = {\n",
    "    snp: ind\n",
    "    for snp, ind in zip(\n",
    "        gene_bim_df[\"snp\"].unique(), range(0, len(gene_bim_df[\"snp\"].unique()))\n",
    "    )\n",
    "}\n",
    "\n",
    "graph = GeneOntology(\n",
    "    snp_id_map,\n",
    "    ontology_file,\n",
    "    child_node=\"snp\",\n",
    ")"
   ]
  },
  {
   "cell_type": "code",
   "execution_count": null,
   "metadata": {},
   "outputs": [],
   "source": [
    "go_vnn_model = FastVNNLightning.load_from_checkpoint(model_ckpt, args = args, graph=graph)"
   ]
  },
  {
   "cell_type": "markdown",
   "metadata": {},
   "source": [
    "# Compute gene level attributions?"
   ]
  }
 ],
 "metadata": {
  "language_info": {
   "name": "python"
  }
 },
 "nbformat": 4,
 "nbformat_minor": 2
}
